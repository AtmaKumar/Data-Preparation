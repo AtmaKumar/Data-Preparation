{
 "cells": [
  {
   "cell_type": "code",
   "execution_count": 26,
   "metadata": {},
   "outputs": [],
   "source": [
    "# summarize the number of unique values for each column using numpy\n",
    "from numpy import loadtxt\n",
    "from numpy import unique\n",
    "# load the dataset\n",
    "data = loadtxt('oil-spill.csv', delimiter=',')\n",
    "# summarize the number of unique values in each column\n"
   ]
  },
  {
   "cell_type": "code",
   "execution_count": 27,
   "metadata": {},
   "outputs": [
    {
     "data": {
      "text/plain": [
       "(937, 50)"
      ]
     },
     "execution_count": 27,
     "metadata": {},
     "output_type": "execute_result"
    }
   ],
   "source": [
    "data.shape"
   ]
  },
  {
   "cell_type": "code",
   "execution_count": 28,
   "metadata": {},
   "outputs": [
    {
     "data": {
      "text/plain": [
       "array([[1.00000e+00, 2.55800e+03, 1.50609e+03, ..., 6.57400e+01,\n",
       "        7.95000e+00, 1.00000e+00],\n",
       "       [2.00000e+00, 2.23250e+04, 7.91100e+01, ..., 6.57300e+01,\n",
       "        6.26000e+00, 0.00000e+00],\n",
       "       [3.00000e+00, 1.15000e+02, 1.44985e+03, ..., 6.58100e+01,\n",
       "        7.84000e+00, 1.00000e+00],\n",
       "       ...,\n",
       "       [2.02000e+02, 1.40000e+01, 2.51400e+01, ..., 6.59100e+01,\n",
       "        6.12000e+00, 0.00000e+00],\n",
       "       [2.03000e+02, 1.00000e+01, 9.60000e+01, ..., 6.59700e+01,\n",
       "        6.32000e+00, 0.00000e+00],\n",
       "       [2.04000e+02, 1.10000e+01, 7.73000e+00, ..., 6.56500e+01,\n",
       "        6.26000e+00, 0.00000e+00]])"
      ]
     },
     "execution_count": 28,
     "metadata": {},
     "output_type": "execute_result"
    }
   ],
   "source": [
    "data"
   ]
  },
  {
   "cell_type": "code",
   "execution_count": 29,
   "metadata": {},
   "outputs": [
    {
     "name": "stdout",
     "output_type": "stream",
     "text": [
      "0 238\n",
      "1 297\n",
      "2 927\n",
      "3 933\n",
      "4 179\n",
      "5 375\n",
      "6 820\n",
      "7 618\n",
      "8 561\n",
      "9 57\n",
      "10 577\n",
      "11 59\n",
      "12 73\n",
      "13 107\n",
      "14 53\n",
      "15 91\n",
      "16 893\n",
      "17 810\n",
      "18 170\n",
      "19 53\n",
      "20 68\n",
      "21 9\n",
      "22 1\n",
      "23 92\n",
      "24 9\n",
      "25 8\n",
      "26 9\n",
      "27 308\n",
      "28 447\n",
      "29 392\n",
      "30 107\n",
      "31 42\n",
      "32 4\n",
      "33 45\n",
      "34 141\n",
      "35 110\n",
      "36 3\n",
      "37 758\n",
      "38 9\n",
      "39 9\n",
      "40 388\n",
      "41 220\n",
      "42 644\n",
      "43 649\n",
      "44 499\n",
      "45 2\n",
      "46 937\n",
      "47 169\n",
      "48 286\n",
      "49 2\n"
     ]
    }
   ],
   "source": [
    "# summarize the number of unique values in each column\n",
    "for i in range(data.shape[1]):\n",
    "    print(i, len(unique(data[:, i])))"
   ]
  },
  {
   "cell_type": "code",
   "execution_count": null,
   "metadata": {},
   "outputs": [],
   "source": []
  },
  {
   "cell_type": "code",
   "execution_count": 30,
   "metadata": {},
   "outputs": [
    {
     "name": "stdout",
     "output_type": "stream",
     "text": [
      "0     238\n",
      "1     297\n",
      "2     927\n",
      "3     933\n",
      "4     179\n",
      "5     375\n",
      "6     820\n",
      "7     618\n",
      "8     561\n",
      "9      57\n",
      "10    577\n",
      "11     59\n",
      "12     73\n",
      "13    107\n",
      "14     53\n",
      "15     91\n",
      "16    893\n",
      "17    810\n",
      "18    170\n",
      "19     53\n",
      "20     68\n",
      "21      9\n",
      "22      1\n",
      "23     92\n",
      "24      9\n",
      "25      8\n",
      "26      9\n",
      "27    308\n",
      "28    447\n",
      "29    392\n",
      "30    107\n",
      "31     42\n",
      "32      4\n",
      "33     45\n",
      "34    141\n",
      "35    110\n",
      "36      3\n",
      "37    758\n",
      "38      9\n",
      "39      9\n",
      "40    388\n",
      "41    220\n",
      "42    644\n",
      "43    649\n",
      "44    499\n",
      "45      2\n",
      "46    937\n",
      "47    169\n",
      "48    286\n",
      "49      2\n",
      "dtype: int64\n"
     ]
    }
   ],
   "source": [
    "# summarize the number of unique values for each column using pandas\n",
    "from pandas import read_csv\n",
    "# load the dataset\n",
    "df = read_csv('oil-spill.csv', header=None)\n",
    "# summarize the number of unique values in each column\n",
    "print(df.nunique())"
   ]
  },
  {
   "cell_type": "code",
   "execution_count": null,
   "metadata": {},
   "outputs": [],
   "source": []
  },
  {
   "cell_type": "code",
   "execution_count": null,
   "metadata": {},
   "outputs": [],
   "source": []
  },
  {
   "cell_type": "code",
   "execution_count": 31,
   "metadata": {},
   "outputs": [],
   "source": [
    "# summarize the percentage of unique values for each column using numpy\n",
    "from numpy import loadtxt\n",
    "from numpy import unique\n",
    "# load the dataset\n",
    "data = loadtxt('oil-spill.csv', delimiter=',')\n"
   ]
  },
  {
   "cell_type": "code",
   "execution_count": 32,
   "metadata": {},
   "outputs": [
    {
     "name": "stdout",
     "output_type": "stream",
     "text": [
      "21, 9, 1.0%\n",
      "22, 1, 0.1%\n",
      "24, 9, 1.0%\n",
      "25, 8, 0.9%\n",
      "26, 9, 1.0%\n",
      "32, 4, 0.4%\n",
      "36, 3, 0.3%\n",
      "38, 9, 1.0%\n",
      "39, 9, 1.0%\n",
      "45, 2, 0.2%\n",
      "49, 2, 0.2%\n"
     ]
    }
   ],
   "source": [
    "# summarize the number of unique values in each column\n",
    "for i in range(data.shape[1]):\n",
    "    num = len(unique(data[:, i]))\n",
    "    percentage = float(num) / data.shape[0] * 100\n",
    "    if percentage < 1:\n",
    "        print('%d, %d, %.1f%%' % (i, num, percentage))"
   ]
  },
  {
   "cell_type": "code",
   "execution_count": null,
   "metadata": {},
   "outputs": [],
   "source": []
  },
  {
   "cell_type": "code",
   "execution_count": 32,
   "metadata": {},
   "outputs": [],
   "source": [
    "import pandas as pd\n",
    "data=pd.read_csv(\"oil-spill.csv\")"
   ]
  },
  {
   "cell_type": "code",
   "execution_count": 33,
   "metadata": {},
   "outputs": [
    {
     "data": {
      "text/html": [
       "<div>\n",
       "<style scoped>\n",
       "    .dataframe tbody tr th:only-of-type {\n",
       "        vertical-align: middle;\n",
       "    }\n",
       "\n",
       "    .dataframe tbody tr th {\n",
       "        vertical-align: top;\n",
       "    }\n",
       "\n",
       "    .dataframe thead th {\n",
       "        text-align: right;\n",
       "    }\n",
       "</style>\n",
       "<table border=\"1\" class=\"dataframe\">\n",
       "  <thead>\n",
       "    <tr style=\"text-align: right;\">\n",
       "      <th></th>\n",
       "      <th>1</th>\n",
       "      <th>2558</th>\n",
       "      <th>1506.09</th>\n",
       "      <th>456.63</th>\n",
       "      <th>90</th>\n",
       "      <th>6395000</th>\n",
       "      <th>40.88</th>\n",
       "      <th>7.89</th>\n",
       "      <th>29780</th>\n",
       "      <th>0.19</th>\n",
       "      <th>...</th>\n",
       "      <th>2850</th>\n",
       "      <th>1000</th>\n",
       "      <th>763.16</th>\n",
       "      <th>135.46</th>\n",
       "      <th>3.73</th>\n",
       "      <th>0.3</th>\n",
       "      <th>33243.19</th>\n",
       "      <th>65.74</th>\n",
       "      <th>7.95</th>\n",
       "      <th>1.1</th>\n",
       "    </tr>\n",
       "  </thead>\n",
       "  <tbody>\n",
       "    <tr>\n",
       "      <th>0</th>\n",
       "      <td>2</td>\n",
       "      <td>22325</td>\n",
       "      <td>79.11</td>\n",
       "      <td>841.03</td>\n",
       "      <td>180</td>\n",
       "      <td>55812500.0</td>\n",
       "      <td>51.11</td>\n",
       "      <td>1.21</td>\n",
       "      <td>61900.0</td>\n",
       "      <td>0.02</td>\n",
       "      <td>...</td>\n",
       "      <td>5750.00</td>\n",
       "      <td>11500.00</td>\n",
       "      <td>9593.48</td>\n",
       "      <td>1648.80</td>\n",
       "      <td>0.60</td>\n",
       "      <td>0</td>\n",
       "      <td>51572.04</td>\n",
       "      <td>65.73</td>\n",
       "      <td>6.26</td>\n",
       "      <td>0</td>\n",
       "    </tr>\n",
       "    <tr>\n",
       "      <th>1</th>\n",
       "      <td>3</td>\n",
       "      <td>115</td>\n",
       "      <td>1449.85</td>\n",
       "      <td>608.43</td>\n",
       "      <td>88</td>\n",
       "      <td>287500.0</td>\n",
       "      <td>40.42</td>\n",
       "      <td>7.34</td>\n",
       "      <td>3340.0</td>\n",
       "      <td>0.18</td>\n",
       "      <td>...</td>\n",
       "      <td>1400.00</td>\n",
       "      <td>250.00</td>\n",
       "      <td>150.00</td>\n",
       "      <td>45.13</td>\n",
       "      <td>9.33</td>\n",
       "      <td>1</td>\n",
       "      <td>31692.84</td>\n",
       "      <td>65.81</td>\n",
       "      <td>7.84</td>\n",
       "      <td>1</td>\n",
       "    </tr>\n",
       "    <tr>\n",
       "      <th>2</th>\n",
       "      <td>4</td>\n",
       "      <td>1201</td>\n",
       "      <td>1562.53</td>\n",
       "      <td>295.65</td>\n",
       "      <td>66</td>\n",
       "      <td>3002500.0</td>\n",
       "      <td>42.40</td>\n",
       "      <td>7.97</td>\n",
       "      <td>18030.0</td>\n",
       "      <td>0.19</td>\n",
       "      <td>...</td>\n",
       "      <td>6041.52</td>\n",
       "      <td>761.58</td>\n",
       "      <td>453.21</td>\n",
       "      <td>144.97</td>\n",
       "      <td>13.33</td>\n",
       "      <td>1</td>\n",
       "      <td>37696.21</td>\n",
       "      <td>65.67</td>\n",
       "      <td>8.07</td>\n",
       "      <td>1</td>\n",
       "    </tr>\n",
       "    <tr>\n",
       "      <th>3</th>\n",
       "      <td>5</td>\n",
       "      <td>312</td>\n",
       "      <td>950.27</td>\n",
       "      <td>440.86</td>\n",
       "      <td>37</td>\n",
       "      <td>780000.0</td>\n",
       "      <td>41.43</td>\n",
       "      <td>7.03</td>\n",
       "      <td>3350.0</td>\n",
       "      <td>0.17</td>\n",
       "      <td>...</td>\n",
       "      <td>1320.04</td>\n",
       "      <td>710.63</td>\n",
       "      <td>512.54</td>\n",
       "      <td>109.16</td>\n",
       "      <td>2.58</td>\n",
       "      <td>0</td>\n",
       "      <td>29038.17</td>\n",
       "      <td>65.66</td>\n",
       "      <td>7.35</td>\n",
       "      <td>0</td>\n",
       "    </tr>\n",
       "    <tr>\n",
       "      <th>4</th>\n",
       "      <td>6</td>\n",
       "      <td>54</td>\n",
       "      <td>1438.13</td>\n",
       "      <td>544.91</td>\n",
       "      <td>82</td>\n",
       "      <td>135000.0</td>\n",
       "      <td>44.67</td>\n",
       "      <td>6.92</td>\n",
       "      <td>1570.0</td>\n",
       "      <td>0.15</td>\n",
       "      <td>...</td>\n",
       "      <td>608.28</td>\n",
       "      <td>200.00</td>\n",
       "      <td>150.00</td>\n",
       "      <td>52.22</td>\n",
       "      <td>4.06</td>\n",
       "      <td>0</td>\n",
       "      <td>30967.25</td>\n",
       "      <td>65.77</td>\n",
       "      <td>7.85</td>\n",
       "      <td>1</td>\n",
       "    </tr>\n",
       "  </tbody>\n",
       "</table>\n",
       "<p>5 rows × 50 columns</p>\n",
       "</div>"
      ],
      "text/plain": [
       "   1   2558  1506.09  456.63   90     6395000  40.88  7.89    29780  0.19  \\\n",
       "0  2  22325    79.11  841.03  180  55812500.0  51.11  1.21  61900.0  0.02   \n",
       "1  3    115  1449.85  608.43   88    287500.0  40.42  7.34   3340.0  0.18   \n",
       "2  4   1201  1562.53  295.65   66   3002500.0  42.40  7.97  18030.0  0.19   \n",
       "3  5    312   950.27  440.86   37    780000.0  41.43  7.03   3350.0  0.17   \n",
       "4  6     54  1438.13  544.91   82    135000.0  44.67  6.92   1570.0  0.15   \n",
       "\n",
       "   ...     2850      1000   763.16   135.46   3.73  0.3  33243.19  65.74  \\\n",
       "0  ...  5750.00  11500.00  9593.48  1648.80   0.60    0  51572.04  65.73   \n",
       "1  ...  1400.00    250.00   150.00    45.13   9.33    1  31692.84  65.81   \n",
       "2  ...  6041.52    761.58   453.21   144.97  13.33    1  37696.21  65.67   \n",
       "3  ...  1320.04    710.63   512.54   109.16   2.58    0  29038.17  65.66   \n",
       "4  ...   608.28    200.00   150.00    52.22   4.06    0  30967.25  65.77   \n",
       "\n",
       "   7.95  1.1  \n",
       "0  6.26    0  \n",
       "1  7.84    1  \n",
       "2  8.07    1  \n",
       "3  7.35    0  \n",
       "4  7.85    1  \n",
       "\n",
       "[5 rows x 50 columns]"
      ]
     },
     "execution_count": 33,
     "metadata": {},
     "output_type": "execute_result"
    }
   ],
   "source": [
    "data.head()"
   ]
  },
  {
   "cell_type": "code",
   "execution_count": 34,
   "metadata": {},
   "outputs": [
    {
     "data": {
      "text/plain": [
       "(936, 50)"
      ]
     },
     "execution_count": 34,
     "metadata": {},
     "output_type": "execute_result"
    }
   ],
   "source": [
    "data.shape"
   ]
  },
  {
   "cell_type": "code",
   "execution_count": 4,
   "metadata": {},
   "outputs": [
    {
     "data": {
      "text/plain": [
       "1           238\n",
       "2558        296\n",
       "1506.09     926\n",
       "456.63      932\n",
       "90          179\n",
       "6395000     374\n",
       "40.88       819\n",
       "7.89        617\n",
       "29780       560\n",
       "0.19         57\n",
       "214.7       576\n",
       "0.21         59\n",
       "0.26         73\n",
       "0.49        107\n",
       "0.1          53\n",
       "0.4          91\n",
       "99.59       892\n",
       "32.19       809\n",
       "1.84        169\n",
       "0.16         53\n",
       "0.2          68\n",
       "87.65         9\n",
       "0             1\n",
       "0.47         92\n",
       "132.78        9\n",
       "-0.01         8\n",
       "3.78          9\n",
       "0.22        308\n",
       "3.2         447\n",
       "-3.71       391\n",
       "-0.18       107\n",
       "2.19         42\n",
       "0.1.1         4\n",
       "2.19.1       45\n",
       "310         141\n",
       "16110       110\n",
       "0.2.1         3\n",
       "138.68      757\n",
       "89            9\n",
       "69            9\n",
       "2850        387\n",
       "1000        219\n",
       "763.16      643\n",
       "135.46      648\n",
       "3.73        499\n",
       "0.3           2\n",
       "33243.19    936\n",
       "65.74       169\n",
       "7.95        286\n",
       "1.1           2\n",
       "dtype: int64"
      ]
     },
     "execution_count": 4,
     "metadata": {},
     "output_type": "execute_result"
    }
   ],
   "source": [
    "data.nunique()"
   ]
  },
  {
   "cell_type": "code",
   "execution_count": 5,
   "metadata": {},
   "outputs": [],
   "source": [
    "#Delete the column which has single or zero value"
   ]
  },
  {
   "cell_type": "code",
   "execution_count": 35,
   "metadata": {},
   "outputs": [
    {
     "data": {
      "text/plain": [
       "0    936\n",
       "Name: 0, dtype: int64"
      ]
     },
     "execution_count": 35,
     "metadata": {},
     "output_type": "execute_result"
    }
   ],
   "source": [
    "data[\"0\"].value_counts()"
   ]
  },
  {
   "cell_type": "code",
   "execution_count": 36,
   "metadata": {},
   "outputs": [],
   "source": [
    "data=data.drop(\"0\",axis=1)"
   ]
  },
  {
   "cell_type": "code",
   "execution_count": 37,
   "metadata": {},
   "outputs": [
    {
     "data": {
      "text/plain": [
       "1           238\n",
       "2558        296\n",
       "1506.09     926\n",
       "456.63      932\n",
       "90          179\n",
       "6395000     374\n",
       "40.88       819\n",
       "7.89        617\n",
       "29780       560\n",
       "0.19         57\n",
       "214.7       576\n",
       "0.21         59\n",
       "0.26         73\n",
       "0.49        107\n",
       "0.1          53\n",
       "0.4          91\n",
       "99.59       892\n",
       "32.19       809\n",
       "1.84        169\n",
       "0.16         53\n",
       "0.2          68\n",
       "87.65         9\n",
       "0.47         92\n",
       "132.78        9\n",
       "-0.01         8\n",
       "3.78          9\n",
       "0.22        308\n",
       "3.2         447\n",
       "-3.71       391\n",
       "-0.18       107\n",
       "2.19         42\n",
       "0.1.1         4\n",
       "2.19.1       45\n",
       "310         141\n",
       "16110       110\n",
       "0.2.1         3\n",
       "138.68      757\n",
       "89            9\n",
       "69            9\n",
       "2850        387\n",
       "1000        219\n",
       "763.16      643\n",
       "135.46      648\n",
       "3.73        499\n",
       "0.3           2\n",
       "33243.19    936\n",
       "65.74       169\n",
       "7.95        286\n",
       "1.1           2\n",
       "dtype: int64"
      ]
     },
     "execution_count": 37,
     "metadata": {},
     "output_type": "execute_result"
    }
   ],
   "source": [
    "data.nunique()"
   ]
  },
  {
   "cell_type": "raw",
   "metadata": {},
   "source": [
    "For very few unique value we can't remove them because::\n",
    " Perhaps the unique values can be encoded as ordinal values?\n",
    " Perhaps the unique values can be encoded as categorical values?\n"
   ]
  },
  {
   "cell_type": "code",
   "execution_count": null,
   "metadata": {},
   "outputs": [],
   "source": []
  },
  {
   "cell_type": "markdown",
   "metadata": {},
   "source": [
    "# Columns That Have A Low Variance Can Delete "
   ]
  },
  {
   "cell_type": "raw",
   "metadata": {},
   "source": [
    "Another approach to the problem of removing columns with few unique values is to consider\n",
    "the variance of the column. Recall that the variance is a statistic calculated on a variable as the\n",
    "average squared difference of values in the sample from the mean. The variance can be used as a\n",
    "filter for identifying columns to be removed from the dataset. A column that has a single value\n",
    "has a variance of 0.0, and a column that has very few unique values may have a small variance."
   ]
  },
  {
   "cell_type": "code",
   "execution_count": 40,
   "metadata": {},
   "outputs": [],
   "source": [
    "from pandas import read_csv\n",
    "from sklearn.feature_selection import VarianceThreshold"
   ]
  },
  {
   "cell_type": "code",
   "execution_count": 41,
   "metadata": {},
   "outputs": [],
   "source": [
    "# load the dataset\n",
    "df = read_csv('oil-spill.csv', header=None)"
   ]
  },
  {
   "cell_type": "code",
   "execution_count": 42,
   "metadata": {},
   "outputs": [
    {
     "data": {
      "text/html": [
       "<div>\n",
       "<style scoped>\n",
       "    .dataframe tbody tr th:only-of-type {\n",
       "        vertical-align: middle;\n",
       "    }\n",
       "\n",
       "    .dataframe tbody tr th {\n",
       "        vertical-align: top;\n",
       "    }\n",
       "\n",
       "    .dataframe thead th {\n",
       "        text-align: right;\n",
       "    }\n",
       "</style>\n",
       "<table border=\"1\" class=\"dataframe\">\n",
       "  <thead>\n",
       "    <tr style=\"text-align: right;\">\n",
       "      <th></th>\n",
       "      <th>0</th>\n",
       "      <th>1</th>\n",
       "      <th>2</th>\n",
       "      <th>3</th>\n",
       "      <th>4</th>\n",
       "      <th>5</th>\n",
       "      <th>6</th>\n",
       "      <th>7</th>\n",
       "      <th>8</th>\n",
       "      <th>9</th>\n",
       "      <th>...</th>\n",
       "      <th>40</th>\n",
       "      <th>41</th>\n",
       "      <th>42</th>\n",
       "      <th>43</th>\n",
       "      <th>44</th>\n",
       "      <th>45</th>\n",
       "      <th>46</th>\n",
       "      <th>47</th>\n",
       "      <th>48</th>\n",
       "      <th>49</th>\n",
       "    </tr>\n",
       "  </thead>\n",
       "  <tbody>\n",
       "    <tr>\n",
       "      <th>0</th>\n",
       "      <td>1</td>\n",
       "      <td>2558</td>\n",
       "      <td>1506.09</td>\n",
       "      <td>456.63</td>\n",
       "      <td>90</td>\n",
       "      <td>6395000.0</td>\n",
       "      <td>40.88</td>\n",
       "      <td>7.89</td>\n",
       "      <td>29780.0</td>\n",
       "      <td>0.19</td>\n",
       "      <td>...</td>\n",
       "      <td>2850.00</td>\n",
       "      <td>1000.00</td>\n",
       "      <td>763.16</td>\n",
       "      <td>135.46</td>\n",
       "      <td>3.73</td>\n",
       "      <td>0</td>\n",
       "      <td>33243.19</td>\n",
       "      <td>65.74</td>\n",
       "      <td>7.95</td>\n",
       "      <td>1</td>\n",
       "    </tr>\n",
       "    <tr>\n",
       "      <th>1</th>\n",
       "      <td>2</td>\n",
       "      <td>22325</td>\n",
       "      <td>79.11</td>\n",
       "      <td>841.03</td>\n",
       "      <td>180</td>\n",
       "      <td>55812500.0</td>\n",
       "      <td>51.11</td>\n",
       "      <td>1.21</td>\n",
       "      <td>61900.0</td>\n",
       "      <td>0.02</td>\n",
       "      <td>...</td>\n",
       "      <td>5750.00</td>\n",
       "      <td>11500.00</td>\n",
       "      <td>9593.48</td>\n",
       "      <td>1648.80</td>\n",
       "      <td>0.60</td>\n",
       "      <td>0</td>\n",
       "      <td>51572.04</td>\n",
       "      <td>65.73</td>\n",
       "      <td>6.26</td>\n",
       "      <td>0</td>\n",
       "    </tr>\n",
       "    <tr>\n",
       "      <th>2</th>\n",
       "      <td>3</td>\n",
       "      <td>115</td>\n",
       "      <td>1449.85</td>\n",
       "      <td>608.43</td>\n",
       "      <td>88</td>\n",
       "      <td>287500.0</td>\n",
       "      <td>40.42</td>\n",
       "      <td>7.34</td>\n",
       "      <td>3340.0</td>\n",
       "      <td>0.18</td>\n",
       "      <td>...</td>\n",
       "      <td>1400.00</td>\n",
       "      <td>250.00</td>\n",
       "      <td>150.00</td>\n",
       "      <td>45.13</td>\n",
       "      <td>9.33</td>\n",
       "      <td>1</td>\n",
       "      <td>31692.84</td>\n",
       "      <td>65.81</td>\n",
       "      <td>7.84</td>\n",
       "      <td>1</td>\n",
       "    </tr>\n",
       "    <tr>\n",
       "      <th>3</th>\n",
       "      <td>4</td>\n",
       "      <td>1201</td>\n",
       "      <td>1562.53</td>\n",
       "      <td>295.65</td>\n",
       "      <td>66</td>\n",
       "      <td>3002500.0</td>\n",
       "      <td>42.40</td>\n",
       "      <td>7.97</td>\n",
       "      <td>18030.0</td>\n",
       "      <td>0.19</td>\n",
       "      <td>...</td>\n",
       "      <td>6041.52</td>\n",
       "      <td>761.58</td>\n",
       "      <td>453.21</td>\n",
       "      <td>144.97</td>\n",
       "      <td>13.33</td>\n",
       "      <td>1</td>\n",
       "      <td>37696.21</td>\n",
       "      <td>65.67</td>\n",
       "      <td>8.07</td>\n",
       "      <td>1</td>\n",
       "    </tr>\n",
       "    <tr>\n",
       "      <th>4</th>\n",
       "      <td>5</td>\n",
       "      <td>312</td>\n",
       "      <td>950.27</td>\n",
       "      <td>440.86</td>\n",
       "      <td>37</td>\n",
       "      <td>780000.0</td>\n",
       "      <td>41.43</td>\n",
       "      <td>7.03</td>\n",
       "      <td>3350.0</td>\n",
       "      <td>0.17</td>\n",
       "      <td>...</td>\n",
       "      <td>1320.04</td>\n",
       "      <td>710.63</td>\n",
       "      <td>512.54</td>\n",
       "      <td>109.16</td>\n",
       "      <td>2.58</td>\n",
       "      <td>0</td>\n",
       "      <td>29038.17</td>\n",
       "      <td>65.66</td>\n",
       "      <td>7.35</td>\n",
       "      <td>0</td>\n",
       "    </tr>\n",
       "  </tbody>\n",
       "</table>\n",
       "<p>5 rows × 50 columns</p>\n",
       "</div>"
      ],
      "text/plain": [
       "   0      1        2       3    4           5      6     7        8     9   \\\n",
       "0   1   2558  1506.09  456.63   90   6395000.0  40.88  7.89  29780.0  0.19   \n",
       "1   2  22325    79.11  841.03  180  55812500.0  51.11  1.21  61900.0  0.02   \n",
       "2   3    115  1449.85  608.43   88    287500.0  40.42  7.34   3340.0  0.18   \n",
       "3   4   1201  1562.53  295.65   66   3002500.0  42.40  7.97  18030.0  0.19   \n",
       "4   5    312   950.27  440.86   37    780000.0  41.43  7.03   3350.0  0.17   \n",
       "\n",
       "   ...       40        41       42       43     44  45        46     47    48  \\\n",
       "0  ...  2850.00   1000.00   763.16   135.46   3.73   0  33243.19  65.74  7.95   \n",
       "1  ...  5750.00  11500.00  9593.48  1648.80   0.60   0  51572.04  65.73  6.26   \n",
       "2  ...  1400.00    250.00   150.00    45.13   9.33   1  31692.84  65.81  7.84   \n",
       "3  ...  6041.52    761.58   453.21   144.97  13.33   1  37696.21  65.67  8.07   \n",
       "4  ...  1320.04    710.63   512.54   109.16   2.58   0  29038.17  65.66  7.35   \n",
       "\n",
       "   49  \n",
       "0   1  \n",
       "1   0  \n",
       "2   1  \n",
       "3   1  \n",
       "4   0  \n",
       "\n",
       "[5 rows x 50 columns]"
      ]
     },
     "execution_count": 42,
     "metadata": {},
     "output_type": "execute_result"
    }
   ],
   "source": [
    "df.head()"
   ]
  },
  {
   "cell_type": "code",
   "execution_count": 43,
   "metadata": {},
   "outputs": [
    {
     "data": {
      "text/plain": [
       "Int64Index([ 0,  1,  2,  3,  4,  5,  6,  7,  8,  9, 10, 11, 12, 13, 14, 15, 16,\n",
       "            17, 18, 19, 20, 21, 22, 23, 24, 25, 26, 27, 28, 29, 30, 31, 32, 33,\n",
       "            34, 35, 36, 37, 38, 39, 40, 41, 42, 43, 44, 45, 46, 47, 48, 49],\n",
       "           dtype='int64')"
      ]
     },
     "execution_count": 43,
     "metadata": {},
     "output_type": "execute_result"
    }
   ],
   "source": [
    "df.columns"
   ]
  },
  {
   "cell_type": "code",
   "execution_count": 44,
   "metadata": {},
   "outputs": [],
   "source": [
    "data = df.values"
   ]
  },
  {
   "cell_type": "code",
   "execution_count": 45,
   "metadata": {},
   "outputs": [
    {
     "data": {
      "text/plain": [
       "numpy.ndarray"
      ]
     },
     "execution_count": 45,
     "metadata": {},
     "output_type": "execute_result"
    }
   ],
   "source": [
    "type(data)"
   ]
  },
  {
   "cell_type": "code",
   "execution_count": 46,
   "metadata": {},
   "outputs": [],
   "source": [
    "X = data[:, :-1]\n",
    "y = data[:, -1]"
   ]
  },
  {
   "cell_type": "code",
   "execution_count": 47,
   "metadata": {},
   "outputs": [
    {
     "name": "stdout",
     "output_type": "stream",
     "text": [
      "(937, 49) (937,)\n"
     ]
    }
   ],
   "source": [
    "print(X.shape, y.shape)"
   ]
  },
  {
   "cell_type": "code",
   "execution_count": 50,
   "metadata": {},
   "outputs": [],
   "source": [
    "# define the transform\n",
    "transform = VarianceThreshold()"
   ]
  },
  {
   "cell_type": "code",
   "execution_count": 51,
   "metadata": {},
   "outputs": [
    {
     "name": "stdout",
     "output_type": "stream",
     "text": [
      "(937, 48)\n"
     ]
    }
   ],
   "source": [
    "# transform the input data\n",
    "X_sel = transform.fit_transform(X)\n",
    "print(X_sel.shape)"
   ]
  },
  {
   "cell_type": "code",
   "execution_count": 18,
   "metadata": {},
   "outputs": [],
   "source": [
    "#Without Threshold it will drop only 0 Variance "
   ]
  },
  {
   "cell_type": "code",
   "execution_count": null,
   "metadata": {},
   "outputs": [],
   "source": []
  },
  {
   "cell_type": "raw",
   "metadata": {},
   "source": [
    "Let's define Threshold"
   ]
  },
  {
   "cell_type": "code",
   "execution_count": 52,
   "metadata": {},
   "outputs": [],
   "source": [
    "# explore the effect of the variance thresholds on the number of selected features\n",
    "from numpy import arange\n",
    "from pandas import read_csv\n",
    "from sklearn.feature_selection import VarianceThreshold\n",
    "from matplotlib import pyplot"
   ]
  },
  {
   "cell_type": "code",
   "execution_count": 53,
   "metadata": {},
   "outputs": [],
   "source": [
    "# load the dataset\n",
    "df = read_csv('oil-spill.csv', header=None)\n",
    "# split data into inputs and outputs\n",
    "data = df.values\n",
    "X = data[:, :-1]\n",
    "y = data[:, -1]"
   ]
  },
  {
   "cell_type": "code",
   "execution_count": 54,
   "metadata": {},
   "outputs": [
    {
     "name": "stdout",
     "output_type": "stream",
     "text": [
      "(937, 49) (937,)\n"
     ]
    }
   ],
   "source": [
    "print(X.shape, y.shape)"
   ]
  },
  {
   "cell_type": "code",
   "execution_count": 62,
   "metadata": {},
   "outputs": [],
   "source": [
    "# define thresholds to check\n",
    "thresholds = arange(0.0, 1.1, 0.005)"
   ]
  },
  {
   "cell_type": "code",
   "execution_count": 63,
   "metadata": {},
   "outputs": [
    {
     "data": {
      "text/plain": [
       "array([0.   , 0.005, 0.01 , 0.015, 0.02 , 0.025, 0.03 , 0.035, 0.04 ,\n",
       "       0.045, 0.05 , 0.055, 0.06 , 0.065, 0.07 , 0.075, 0.08 , 0.085,\n",
       "       0.09 , 0.095, 0.1  , 0.105, 0.11 , 0.115, 0.12 , 0.125, 0.13 ,\n",
       "       0.135, 0.14 , 0.145, 0.15 , 0.155, 0.16 , 0.165, 0.17 , 0.175,\n",
       "       0.18 , 0.185, 0.19 , 0.195, 0.2  , 0.205, 0.21 , 0.215, 0.22 ,\n",
       "       0.225, 0.23 , 0.235, 0.24 , 0.245, 0.25 , 0.255, 0.26 , 0.265,\n",
       "       0.27 , 0.275, 0.28 , 0.285, 0.29 , 0.295, 0.3  , 0.305, 0.31 ,\n",
       "       0.315, 0.32 , 0.325, 0.33 , 0.335, 0.34 , 0.345, 0.35 , 0.355,\n",
       "       0.36 , 0.365, 0.37 , 0.375, 0.38 , 0.385, 0.39 , 0.395, 0.4  ,\n",
       "       0.405, 0.41 , 0.415, 0.42 , 0.425, 0.43 , 0.435, 0.44 , 0.445,\n",
       "       0.45 , 0.455, 0.46 , 0.465, 0.47 , 0.475, 0.48 , 0.485, 0.49 ,\n",
       "       0.495, 0.5  , 0.505, 0.51 , 0.515, 0.52 , 0.525, 0.53 , 0.535,\n",
       "       0.54 , 0.545, 0.55 , 0.555, 0.56 , 0.565, 0.57 , 0.575, 0.58 ,\n",
       "       0.585, 0.59 , 0.595, 0.6  , 0.605, 0.61 , 0.615, 0.62 , 0.625,\n",
       "       0.63 , 0.635, 0.64 , 0.645, 0.65 , 0.655, 0.66 , 0.665, 0.67 ,\n",
       "       0.675, 0.68 , 0.685, 0.69 , 0.695, 0.7  , 0.705, 0.71 , 0.715,\n",
       "       0.72 , 0.725, 0.73 , 0.735, 0.74 , 0.745, 0.75 , 0.755, 0.76 ,\n",
       "       0.765, 0.77 , 0.775, 0.78 , 0.785, 0.79 , 0.795, 0.8  , 0.805,\n",
       "       0.81 , 0.815, 0.82 , 0.825, 0.83 , 0.835, 0.84 , 0.845, 0.85 ,\n",
       "       0.855, 0.86 , 0.865, 0.87 , 0.875, 0.88 , 0.885, 0.89 , 0.895,\n",
       "       0.9  , 0.905, 0.91 , 0.915, 0.92 , 0.925, 0.93 , 0.935, 0.94 ,\n",
       "       0.945, 0.95 , 0.955, 0.96 , 0.965, 0.97 , 0.975, 0.98 , 0.985,\n",
       "       0.99 , 0.995, 1.   , 1.005, 1.01 , 1.015, 1.02 , 1.025, 1.03 ,\n",
       "       1.035, 1.04 , 1.045, 1.05 , 1.055, 1.06 , 1.065, 1.07 , 1.075,\n",
       "       1.08 , 1.085, 1.09 , 1.095])"
      ]
     },
     "execution_count": 63,
     "metadata": {},
     "output_type": "execute_result"
    }
   ],
   "source": [
    "thresholds"
   ]
  },
  {
   "cell_type": "code",
   "execution_count": 64,
   "metadata": {},
   "outputs": [],
   "source": [
    "# apply transform with each threshold\n",
    "results = list()"
   ]
  },
  {
   "cell_type": "code",
   "execution_count": 65,
   "metadata": {},
   "outputs": [
    {
     "name": "stdout",
     "output_type": "stream",
     "text": [
      ">Threshold=0.00, Features=48\n",
      ">Threshold=0.01, Features=46\n",
      ">Threshold=0.01, Features=42\n",
      ">Threshold=0.01, Features=40\n",
      ">Threshold=0.02, Features=40\n",
      ">Threshold=0.03, Features=40\n",
      ">Threshold=0.03, Features=40\n",
      ">Threshold=0.04, Features=40\n",
      ">Threshold=0.04, Features=40\n",
      ">Threshold=0.04, Features=39\n",
      ">Threshold=0.05, Features=37\n",
      ">Threshold=0.06, Features=37\n",
      ">Threshold=0.06, Features=37\n",
      ">Threshold=0.07, Features=37\n",
      ">Threshold=0.07, Features=37\n",
      ">Threshold=0.07, Features=37\n",
      ">Threshold=0.08, Features=37\n",
      ">Threshold=0.09, Features=37\n",
      ">Threshold=0.09, Features=36\n",
      ">Threshold=0.10, Features=36\n",
      ">Threshold=0.10, Features=36\n",
      ">Threshold=0.10, Features=36\n",
      ">Threshold=0.11, Features=36\n",
      ">Threshold=0.12, Features=35\n",
      ">Threshold=0.12, Features=35\n",
      ">Threshold=0.12, Features=35\n",
      ">Threshold=0.13, Features=35\n",
      ">Threshold=0.14, Features=35\n",
      ">Threshold=0.14, Features=35\n",
      ">Threshold=0.14, Features=35\n",
      ">Threshold=0.15, Features=35\n",
      ">Threshold=0.15, Features=35\n",
      ">Threshold=0.16, Features=35\n",
      ">Threshold=0.17, Features=35\n",
      ">Threshold=0.17, Features=35\n",
      ">Threshold=0.18, Features=35\n",
      ">Threshold=0.18, Features=35\n",
      ">Threshold=0.18, Features=35\n",
      ">Threshold=0.19, Features=35\n",
      ">Threshold=0.20, Features=35\n",
      ">Threshold=0.20, Features=35\n",
      ">Threshold=0.21, Features=35\n",
      ">Threshold=0.21, Features=35\n",
      ">Threshold=0.21, Features=35\n",
      ">Threshold=0.22, Features=35\n",
      ">Threshold=0.23, Features=35\n",
      ">Threshold=0.23, Features=35\n",
      ">Threshold=0.24, Features=35\n",
      ">Threshold=0.24, Features=35\n",
      ">Threshold=0.24, Features=35\n",
      ">Threshold=0.25, Features=35\n",
      ">Threshold=0.26, Features=35\n",
      ">Threshold=0.26, Features=35\n",
      ">Threshold=0.27, Features=35\n",
      ">Threshold=0.27, Features=35\n",
      ">Threshold=0.28, Features=35\n",
      ">Threshold=0.28, Features=35\n",
      ">Threshold=0.29, Features=35\n",
      ">Threshold=0.29, Features=35\n",
      ">Threshold=0.29, Features=35\n",
      ">Threshold=0.30, Features=35\n",
      ">Threshold=0.30, Features=35\n",
      ">Threshold=0.31, Features=35\n",
      ">Threshold=0.32, Features=35\n",
      ">Threshold=0.32, Features=35\n",
      ">Threshold=0.33, Features=35\n",
      ">Threshold=0.33, Features=35\n",
      ">Threshold=0.34, Features=35\n",
      ">Threshold=0.34, Features=35\n",
      ">Threshold=0.35, Features=35\n",
      ">Threshold=0.35, Features=35\n",
      ">Threshold=0.35, Features=35\n",
      ">Threshold=0.36, Features=35\n",
      ">Threshold=0.36, Features=35\n",
      ">Threshold=0.37, Features=35\n",
      ">Threshold=0.38, Features=35\n",
      ">Threshold=0.38, Features=35\n",
      ">Threshold=0.39, Features=35\n",
      ">Threshold=0.39, Features=35\n",
      ">Threshold=0.40, Features=35\n",
      ">Threshold=0.40, Features=35\n",
      ">Threshold=0.41, Features=35\n",
      ">Threshold=0.41, Features=34\n",
      ">Threshold=0.42, Features=33\n",
      ">Threshold=0.42, Features=33\n",
      ">Threshold=0.42, Features=33\n",
      ">Threshold=0.43, Features=33\n",
      ">Threshold=0.43, Features=33\n",
      ">Threshold=0.44, Features=33\n",
      ">Threshold=0.45, Features=33\n",
      ">Threshold=0.45, Features=33\n",
      ">Threshold=0.46, Features=33\n",
      ">Threshold=0.46, Features=32\n",
      ">Threshold=0.47, Features=32\n",
      ">Threshold=0.47, Features=32\n",
      ">Threshold=0.48, Features=32\n",
      ">Threshold=0.48, Features=32\n",
      ">Threshold=0.48, Features=32\n",
      ">Threshold=0.49, Features=32\n",
      ">Threshold=0.49, Features=31\n",
      ">Threshold=0.50, Features=31\n",
      ">Threshold=0.51, Features=31\n",
      ">Threshold=0.51, Features=31\n",
      ">Threshold=0.52, Features=31\n",
      ">Threshold=0.52, Features=31\n",
      ">Threshold=0.53, Features=31\n",
      ">Threshold=0.53, Features=31\n",
      ">Threshold=0.54, Features=31\n",
      ">Threshold=0.54, Features=31\n",
      ">Threshold=0.55, Features=31\n",
      ">Threshold=0.55, Features=31\n",
      ">Threshold=0.56, Features=31\n",
      ">Threshold=0.56, Features=31\n",
      ">Threshold=0.57, Features=31\n",
      ">Threshold=0.57, Features=31\n",
      ">Threshold=0.58, Features=31\n",
      ">Threshold=0.58, Features=31\n",
      ">Threshold=0.58, Features=31\n",
      ">Threshold=0.59, Features=31\n",
      ">Threshold=0.59, Features=31\n",
      ">Threshold=0.60, Features=31\n",
      ">Threshold=0.60, Features=31\n",
      ">Threshold=0.61, Features=31\n",
      ">Threshold=0.61, Features=31\n",
      ">Threshold=0.62, Features=31\n",
      ">Threshold=0.62, Features=31\n",
      ">Threshold=0.63, Features=31\n",
      ">Threshold=0.64, Features=31\n",
      ">Threshold=0.64, Features=31\n",
      ">Threshold=0.65, Features=31\n",
      ">Threshold=0.65, Features=31\n",
      ">Threshold=0.66, Features=31\n",
      ">Threshold=0.66, Features=31\n",
      ">Threshold=0.67, Features=31\n",
      ">Threshold=0.67, Features=31\n",
      ">Threshold=0.68, Features=31\n",
      ">Threshold=0.68, Features=31\n",
      ">Threshold=0.69, Features=31\n",
      ">Threshold=0.69, Features=31\n",
      ">Threshold=0.70, Features=31\n",
      ">Threshold=0.70, Features=31\n",
      ">Threshold=0.70, Features=31\n",
      ">Threshold=0.71, Features=31\n",
      ">Threshold=0.71, Features=30\n",
      ">Threshold=0.72, Features=30\n",
      ">Threshold=0.72, Features=30\n",
      ">Threshold=0.73, Features=30\n",
      ">Threshold=0.73, Features=30\n",
      ">Threshold=0.74, Features=30\n",
      ">Threshold=0.74, Features=30\n",
      ">Threshold=0.75, Features=30\n",
      ">Threshold=0.76, Features=30\n",
      ">Threshold=0.76, Features=30\n",
      ">Threshold=0.77, Features=30\n",
      ">Threshold=0.77, Features=30\n",
      ">Threshold=0.78, Features=30\n",
      ">Threshold=0.78, Features=30\n",
      ">Threshold=0.79, Features=30\n",
      ">Threshold=0.79, Features=30\n",
      ">Threshold=0.80, Features=30\n",
      ">Threshold=0.80, Features=30\n",
      ">Threshold=0.81, Features=30\n",
      ">Threshold=0.81, Features=30\n",
      ">Threshold=0.82, Features=30\n",
      ">Threshold=0.82, Features=30\n",
      ">Threshold=0.83, Features=30\n",
      ">Threshold=0.83, Features=30\n",
      ">Threshold=0.83, Features=30\n",
      ">Threshold=0.84, Features=30\n",
      ">Threshold=0.84, Features=30\n",
      ">Threshold=0.85, Features=30\n",
      ">Threshold=0.85, Features=30\n",
      ">Threshold=0.86, Features=30\n",
      ">Threshold=0.86, Features=30\n",
      ">Threshold=0.87, Features=30\n",
      ">Threshold=0.88, Features=30\n",
      ">Threshold=0.88, Features=30\n",
      ">Threshold=0.89, Features=30\n",
      ">Threshold=0.89, Features=30\n",
      ">Threshold=0.90, Features=30\n",
      ">Threshold=0.90, Features=30\n",
      ">Threshold=0.91, Features=30\n",
      ">Threshold=0.91, Features=30\n",
      ">Threshold=0.92, Features=30\n",
      ">Threshold=0.92, Features=30\n",
      ">Threshold=0.93, Features=30\n",
      ">Threshold=0.93, Features=30\n",
      ">Threshold=0.94, Features=30\n",
      ">Threshold=0.94, Features=30\n",
      ">Threshold=0.95, Features=30\n",
      ">Threshold=0.95, Features=30\n",
      ">Threshold=0.96, Features=30\n",
      ">Threshold=0.96, Features=30\n",
      ">Threshold=0.96, Features=30\n",
      ">Threshold=0.97, Features=30\n",
      ">Threshold=0.97, Features=30\n",
      ">Threshold=0.98, Features=30\n",
      ">Threshold=0.98, Features=30\n",
      ">Threshold=0.99, Features=30\n",
      ">Threshold=0.99, Features=30\n",
      ">Threshold=1.00, Features=30\n",
      ">Threshold=1.01, Features=30\n",
      ">Threshold=1.01, Features=30\n",
      ">Threshold=1.02, Features=30\n",
      ">Threshold=1.02, Features=30\n",
      ">Threshold=1.02, Features=30\n",
      ">Threshold=1.03, Features=30\n",
      ">Threshold=1.03, Features=30\n",
      ">Threshold=1.04, Features=30\n",
      ">Threshold=1.04, Features=30\n",
      ">Threshold=1.05, Features=30\n",
      ">Threshold=1.05, Features=30\n",
      ">Threshold=1.06, Features=30\n",
      ">Threshold=1.06, Features=30\n",
      ">Threshold=1.07, Features=30\n",
      ">Threshold=1.07, Features=30\n",
      ">Threshold=1.08, Features=30\n",
      ">Threshold=1.08, Features=30\n",
      ">Threshold=1.09, Features=30\n",
      ">Threshold=1.09, Features=30\n"
     ]
    },
    {
     "data": {
      "image/png": "[encoded data removed]",
      "text/plain": [
       "<Figure size 432x288 with 1 Axes>"
      ]
     },
     "metadata": {
      "needs_background": "light"
     },
     "output_type": "display_data"
    }
   ],
   "source": [
    "for i in thresholds:\n",
    "    # define the transform\n",
    "    transform = VarianceThreshold(threshold=i)\n",
    "    # transform the input data\n",
    "    X_sel = transform.fit_transform(X)\n",
    "    # determine the number of input features\n",
    "    n_features = X_sel.shape[1]\n",
    "    print('>Threshold=%.2f, Features=%d' % (i, n_features))\n",
    "    # store the result\n",
    "    results.append(n_features)\n",
    "# plot the threshold vs the number of selected features\n",
    "pyplot.plot(thresholds, results)\n",
    "pyplot.show()"
   ]
  },
  {
   "cell_type": "code",
   "execution_count": null,
   "metadata": {},
   "outputs": [],
   "source": []
  },
  {
   "cell_type": "code",
   "execution_count": null,
   "metadata": {},
   "outputs": [],
   "source": []
  },
  {
   "cell_type": "code",
   "execution_count": 63,
   "metadata": {},
   "outputs": [],
   "source": [
    "# locate rows of duplicate data\n",
    "from pandas import read_csv"
   ]
  },
  {
   "cell_type": "code",
   "execution_count": null,
   "metadata": {},
   "outputs": [],
   "source": []
  }
 ],
 "metadata": {
  "kernelspec": {
   "display_name": "Python 3",
   "language": "python",
   "name": "python3"
  },
  "language_info": {
   "codemirror_mode": {
    "name": "ipython",
    "version": 3
   },
   "file_extension": ".py",
   "mimetype": "text/x-python",
   "name": "python",
   "nbconvert_exporter": "python",
   "pygments_lexer": "ipython3",
   "version": "3.7.3"
  }
 },
 "nbformat": 4,
 "nbformat_minor": 2
}
